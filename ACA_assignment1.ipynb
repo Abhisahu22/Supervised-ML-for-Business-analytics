{
  "nbformat": 4,
  "nbformat_minor": 0,
  "metadata": {
    "colab": {
      "provenance": [],
      "authorship_tag": "ABX9TyNRJ4fDblPbqt6Lpn+7YcPs",
      "include_colab_link": true
    },
    "kernelspec": {
      "name": "python3",
      "display_name": "Python 3"
    },
    "language_info": {
      "name": "python"
    }
  },
  "cells": [
    {
      "cell_type": "markdown",
      "metadata": {
        "id": "view-in-github",
        "colab_type": "text"
      },
      "source": [
        "<a href=\"https://colab.research.google.com/github/arpitoo/Supervised-ML-for-Business-analytics/blob/main/ACA_assignment1.ipynb\" target=\"_parent\"><img src=\"https://colab.research.google.com/assets/colab-badge.svg\" alt=\"Open In Colab\"/></a>"
      ]
    },
    {
      "cell_type": "code",
      "execution_count": 9,
      "metadata": {
        "colab": {
          "base_uri": "https://localhost:8080/"
        },
        "id": "i9qlCHnsuCGR",
        "outputId": "60fddb00-7380-489d-996e-f5e400856efe"
      },
      "outputs": [
        {
          "output_type": "execute_result",
          "data": {
            "text/plain": [
              "array([[1028105886314,  467004937551, -179868506075, -398646086104,\n",
              "         467004937551,  604466569374, -792263728998, -194738212886],\n",
              "       [-179868506075, -792263728998, 1358810617802,   88320813016,\n",
              "        -398646086104, -194738212886,   88320813016,  252774725900]])"
            ]
          },
          "metadata": {},
          "execution_count": 9
        }
      ],
      "source": [
        "import random as rd\n",
        "import numpy as np\n",
        "row = 4\n",
        "col = 4 \n",
        "matrix = []\n",
        "for i in range(4) :\n",
        "  temp = []\n",
        "  for j in range(4) :\n",
        "    temp.append(rd.randint(-10**6,10**6))\n",
        "  matrix.append(temp)\n",
        "transpose = [[0, 0, 0,0], [0,0,0,0],[0,0,0,0],[0,0,0,0]]\n",
        "for i in range(4) :\n",
        "  for j in range(4) :\n",
        "    transpose[j][i] = matrix[i][j]\n",
        "\n",
        "result = np.dot(matrix,transpose)\n",
        "result.reshape(2,8)"
      ]
    },
    {
      "cell_type": "markdown",
      "source": [],
      "metadata": {
        "id": "EkzzgmquuMmK"
      }
    }
  ]
}